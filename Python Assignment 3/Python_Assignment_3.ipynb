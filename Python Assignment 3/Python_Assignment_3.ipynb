{
 "cells": [
  {
   "cell_type": "markdown",
   "metadata": {},
   "source": [
    "## <center>Python Assignment 3</center>"
   ]
  },
  {
   "cell_type": "markdown",
   "metadata": {},
   "source": [
    "### 1.1 Write a Python Program to implement your own myreduce() function which works exactly like Python's built-in function reduce()"
   ]
  },
  {
   "cell_type": "raw",
   "metadata": {},
   "source": [
    "reduce function in python takes 3 arguments:-\n",
    "1) fucntion name which is to be applied on the sequence provided. Function should take 2 arguments\n",
    "2) Sequence like list, tuple etc.\n",
    "3) initializer (initial value)\n",
    "\n",
    "if no initial value given then First value of Sequence is set as default value for intializer.\n",
    "\n",
    "It perfoms cumulative operation on sequence provided."
   ]
  },
  {
   "cell_type": "code",
   "execution_count": 7,
   "metadata": {},
   "outputs": [
    {
     "name": "stdout",
     "output_type": "stream",
     "text": [
      "-98 56 1 10\n"
     ]
    }
   ],
   "source": [
    "# definded a function to add two numbers\n",
    "def sum(a,b):\n",
    "    return a\n",
    "\n",
    "# definded a fucntion which acts like reduce function\n",
    "def myreduce(func, seq, initial=''):\n",
    "    if initial == '' and len(seq) == 1:\n",
    "        return seq[0]\n",
    "    elif initial != '' and len(seq) == 0:\n",
    "        return initial\n",
    "   \n",
    "    next_value = ''\n",
    "    i = 0\n",
    "    if initial == '':\n",
    "        initial = seq[0]\n",
    "        next_value = seq[1]\n",
    "        i = 2\n",
    "    else:\n",
    "        next_value = seq[0]\n",
    "        i = 1\n",
    "    initial = func(initial, next_value)\n",
    "    while(i < len(seq)):\n",
    "        next_value = seq[i]\n",
    "        initial = func(initial, next_value)\n",
    "        i += 1\n",
    "    return initial\n",
    "        \n",
    "\n",
    "ans1 = myreduce(sum, [-98])\n",
    "ans2 = myreduce(sum, [], 56)\n",
    "ans3 = myreduce(sum, [1,2,3,4,5])\n",
    "ans4 = myreduce(sum, [1,2,3,4,5], 10)\n",
    "\n",
    "print(ans1, ans2, ans3, ans4)"
   ]
  },
  {
   "cell_type": "markdown",
   "metadata": {},
   "source": [
    "### 1.2 Write a Python program to implement your own myfilter() function which works exactly like Python's built-in function filter()"
   ]
  },
  {
   "cell_type": "raw",
   "metadata": {},
   "source": [
    "filter(function or None, iterable) --> filter object\n",
    "\n",
    "Return an iterator yielding those items of iterable for which function(item)\n",
    "is true. If function is None, return the items that are true."
   ]
  },
  {
   "cell_type": "code",
   "execution_count": 66,
   "metadata": {},
   "outputs": [
    {
     "name": "stdout",
     "output_type": "stream",
     "text": [
      "[20, 5.67, 'python', (8+9j)]\n",
      "(0, 2, 4, 6, 8, 10)\n"
     ]
    }
   ],
   "source": [
    "# defined a function which will return True for even numbers only\n",
    "def even(x):\n",
    "    if x%2==0:\n",
    "        return True\n",
    "    else:\n",
    "        return False\n",
    "\n",
    "# defined a function which acts like filter function in python\n",
    "def myfilter(func, iterable):\n",
    "    if func == None:\n",
    "        for x in iterable:\n",
    "            if bool(x):\n",
    "                yield(x)\n",
    "    else:\n",
    "        for x in iterable:\n",
    "            if even(x):\n",
    "                yield(x)\n",
    "    \n",
    "ans1 = myfilter(None, [None, 0, False, 20, 5.67, 'python', 8 + 9j])\n",
    "ans2 = myfilter(even, [0,1,2,3,4,5,6,7,8,9,10])\n",
    "\n",
    "print(list(ans1))\n",
    "print(tuple(ans2))"
   ]
  },
  {
   "cell_type": "markdown",
   "metadata": {},
   "source": [
    "### 2. Implement List comprehensions to produce the following lists."
   ]
  },
  {
   "cell_type": "markdown",
   "metadata": {},
   "source": [
    "#### ['x', 'xx', 'xxx', 'xxxx', 'y', 'yy', 'yyy', 'yyyy', 'z', 'zz', 'zzz', 'zzzz']"
   ]
  },
  {
   "cell_type": "code",
   "execution_count": 30,
   "metadata": {},
   "outputs": [
    {
     "data": {
      "text/plain": [
       "['x', 'xx', 'xxx', 'xxxx', 'y', 'yy', 'yyy', 'yyyy', 'z', 'zz', 'zzz', 'zzzz']"
      ]
     },
     "execution_count": 30,
     "metadata": {},
     "output_type": "execute_result"
    }
   ],
   "source": [
    "[a*i for a in ['x','y','z'] for i in range (1,5)]"
   ]
  },
  {
   "cell_type": "markdown",
   "metadata": {},
   "source": [
    "#### ['x', 'y', 'z', 'xx', 'yy', 'zz', 'xxx', 'yyy', 'zzz', 'xxxx', 'yyyy', 'zzzz']"
   ]
  },
  {
   "cell_type": "code",
   "execution_count": 29,
   "metadata": {},
   "outputs": [
    {
     "data": {
      "text/plain": [
       "['x', 'y', 'z', 'xx', 'yy', 'zz', 'xxx', 'yyy', 'zzz', 'xxxx', 'yyyy', 'zzzz']"
      ]
     },
     "execution_count": 29,
     "metadata": {},
     "output_type": "execute_result"
    }
   ],
   "source": [
    "[a*i for i in range (1,5) for a in ['x','y','z']]"
   ]
  },
  {
   "cell_type": "markdown",
   "metadata": {},
   "source": [
    "#### [[2], [3], [4], [3], [4], [5], [4], [5], [6]]"
   ]
  },
  {
   "cell_type": "code",
   "execution_count": 35,
   "metadata": {},
   "outputs": [
    {
     "data": {
      "text/plain": [
       "[[2], [3], [4], [3], [4], [5], [4], [5], [6]]"
      ]
     },
     "execution_count": 35,
     "metadata": {},
     "output_type": "execute_result"
    }
   ],
   "source": [
    "[[a+b] for b in [1,2,3] for a in [1,2,3]]"
   ]
  },
  {
   "cell_type": "markdown",
   "metadata": {},
   "source": [
    "#### [[2, 3, 4, 5], [3, 4, 5, 6], [4, 5, 6, 7], [5, 6, 7, 8]]"
   ]
  },
  {
   "cell_type": "code",
   "execution_count": 1,
   "metadata": {},
   "outputs": [
    {
     "data": {
      "text/plain": [
       "[[2, 3, 4, 5], [3, 4, 5, 6], [4, 5, 6, 7], [5, 6, 7, 8]]"
      ]
     },
     "execution_count": 1,
     "metadata": {},
     "output_type": "execute_result"
    }
   ],
   "source": [
    "[[a+b for b in [1,2,3,4]] for a in [1,2,3,4]]"
   ]
  },
  {
   "cell_type": "markdown",
   "metadata": {},
   "source": [
    "#### [(1, 1), (2, 1), (3, 1), (1, 2), (2, 2), (3, 2), (1, 3), (2, 3), (3, 3)]"
   ]
  },
  {
   "cell_type": "code",
   "execution_count": 32,
   "metadata": {},
   "outputs": [
    {
     "data": {
      "text/plain": [
       "[(1, 1), (2, 1), (3, 1), (1, 2), (2, 2), (3, 2), (1, 3), (2, 3), (3, 3)]"
      ]
     },
     "execution_count": 32,
     "metadata": {},
     "output_type": "execute_result"
    }
   ],
   "source": [
    "[(a,b) for b in [1,2,3] for a in [1,2,3]]"
   ]
  }
 ],
 "metadata": {
  "kernelspec": {
   "display_name": "Python 3",
   "language": "python",
   "name": "python3"
  },
  "language_info": {
   "codemirror_mode": {
    "name": "ipython",
    "version": 3
   },
   "file_extension": ".py",
   "mimetype": "text/x-python",
   "name": "python",
   "nbconvert_exporter": "python",
   "pygments_lexer": "ipython3",
   "version": "3.8.5"
  }
 },
 "nbformat": 4,
 "nbformat_minor": 4
}
