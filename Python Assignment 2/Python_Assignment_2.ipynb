{
 "cells": [
  {
   "cell_type": "markdown",
   "metadata": {},
   "source": [
    "## <center>Python Assignment - 2</center>"
   ]
  },
  {
   "cell_type": "markdown",
   "metadata": {},
   "source": [
    " ### 1. Create the below pattern using nested for loop in Python"
   ]
  },
  {
   "cell_type": "raw",
   "metadata": {},
   "source": [
    "*\n",
    "* *\n",
    "* * *\n",
    "* * * *\n",
    "* * * * *\n",
    "* * * *\n",
    "* * *\n",
    "* *\n",
    "*"
   ]
  },
  {
   "cell_type": "code",
   "execution_count": 13,
   "metadata": {},
   "outputs": [
    {
     "name": "stdout",
     "output_type": "stream",
     "text": [
      "* \n",
      "* * \n",
      "* * * \n",
      "* * * * \n",
      "* * * * * \n",
      "* * * * \n",
      "* * * \n",
      "* * \n",
      "* \n"
     ]
    }
   ],
   "source": [
    "# using two loops\n",
    "for i in range(1,10):\n",
    "    if i <= 5:\n",
    "        for j in range(0,i):\n",
    "            print('*', end=' ')\n",
    "        print()\n",
    "    else:\n",
    "        for j in range(0,10-i):\n",
    "            print('*', end=' ')\n",
    "        print()\n",
    "\n",
    "# using single loop\n",
    "# for i in range(1,10):\n",
    "#     if i<=5:\n",
    "#         print('* ' * i)\n",
    "#     else:\n",
    "#         print('* ' * (10-i))"
   ]
  },
  {
   "cell_type": "markdown",
   "metadata": {},
   "source": [
    "### 2. Write a Python program to reverse a word after accepting the input from the user.\n",
    "- Input word: ineuron\n",
    "- Output: norueni"
   ]
  },
  {
   "cell_type": "code",
   "execution_count": 2,
   "metadata": {},
   "outputs": [
    {
     "name": "stdout",
     "output_type": "stream",
     "text": [
      "Enter any word: Assignment\n",
      "Input word: Assignment\n",
      "Output: tnemngissA\n"
     ]
    }
   ],
   "source": [
    "word = input(\"Enter any word: \")\n",
    "print(f\"Input word: {word}\")\n",
    "print(f\"Output: {word[::-1]}\")"
   ]
  }
 ],
 "metadata": {
  "kernelspec": {
   "display_name": "Python 3",
   "language": "python",
   "name": "python3"
  },
  "language_info": {
   "codemirror_mode": {
    "name": "ipython",
    "version": 3
   },
   "file_extension": ".py",
   "mimetype": "text/x-python",
   "name": "python",
   "nbconvert_exporter": "python",
   "pygments_lexer": "ipython3",
   "version": "3.8.5"
  }
 },
 "nbformat": 4,
 "nbformat_minor": 4
}
