{
 "cells": [
  {
   "cell_type": "markdown",
   "id": "f4957472",
   "metadata": {},
   "source": [
    "## <center> Numpy Assignment</center>"
   ]
  },
  {
   "cell_type": "code",
   "execution_count": 1,
   "id": "a5b38937",
   "metadata": {},
   "outputs": [],
   "source": [
    "# importing req. packages\n",
    "import numpy as np"
   ]
  },
  {
   "cell_type": "markdown",
   "id": "c7c5d459",
   "metadata": {},
   "source": [
    "- Problem Statement 1: \n",
    "  - Write a function so that the columns of the output matrix are powers of the input vector. \n",
    "  - The order of the powers is determined by the increasing boolean argument. Specifically, when  increasing is False, the i-th output column is the input vector raised element-wise to the power  of N - i - 1. \n",
    "  - HINT: Such a matrix with a geometric progression in each row is named for Alexandre Theophile Vandermonde. "
   ]
  },
  {
   "cell_type": "code",
   "execution_count": 2,
   "id": "84ae29cf",
   "metadata": {},
   "outputs": [],
   "source": [
    "# numpy has its own method for generating this kind of metrix.\n",
    "\n",
    "# input_vector = np.array([1,3,5,7])\n",
    "# print(np.vander(input_vector))\n",
    "# print(np.vander(input_vector, 5))\n",
    "#np.vander(input_vector,increasing=True)"
   ]
  },
  {
   "cell_type": "markdown",
   "id": "4336b513",
   "metadata": {},
   "source": [
    "### creating custom vendor method which will work like vander method"
   ]
  },
  {
   "cell_type": "code",
   "execution_count": 3,
   "id": "b15b7419",
   "metadata": {},
   "outputs": [],
   "source": [
    "def custom_vander(input_vector, N=None, increasing=False):\n",
    "    '''\n",
    "        this function acts like vander function of numpy.\n",
    "        It takes 3 parameters:-\n",
    "        x : array_like 1-D input array.\n",
    "        N : int, optional \n",
    "            Number of columns in the output.  \n",
    "            If `N` is not specified, a square array is returned (``N = len(x)``).\n",
    "        increasing : bool, optional\n",
    "            Order of the powers of the columns.  If True, the powers increase from left to right, if False (the default) they are reversed.\n",
    "    '''\n",
    "    \n",
    "    \n",
    "    if N == None:\n",
    "        N = len(input_vector)\n",
    "    output_matrix = np.zeros(shape=(len(input_vector), N))\n",
    "    if increasing == True:\n",
    "        for i in range(0,N):\n",
    "            output_matrix[:,i] = input_vector ** (i)\n",
    "    else:\n",
    "        for i in range(0,N):\n",
    "            output_matrix[:,i] = input_vector ** (N-1-i)  \n",
    "    return output_matrix\n",
    "    "
   ]
  },
  {
   "cell_type": "code",
   "execution_count": 4,
   "id": "351cbdae",
   "metadata": {},
   "outputs": [
    {
     "data": {
      "text/plain": [
       "array([[  1.,   1.,   1.,   1.],\n",
       "       [ 27.,   9.,   3.,   1.],\n",
       "       [125.,  25.,   5.,   1.],\n",
       "       [343.,  49.,   7.,   1.]])"
      ]
     },
     "execution_count": 4,
     "metadata": {},
     "output_type": "execute_result"
    }
   ],
   "source": [
    "ans = custom_vander(np.array([1,3,5,7]))\n",
    "ans"
   ]
  },
  {
   "cell_type": "code",
   "execution_count": 5,
   "id": "d2f50075",
   "metadata": {},
   "outputs": [
    {
     "data": {
      "text/plain": [
       "array([[ 1.,  1.,  1.],\n",
       "       [ 9.,  3.,  1.],\n",
       "       [25.,  5.,  1.],\n",
       "       [49.,  7.,  1.]])"
      ]
     },
     "execution_count": 5,
     "metadata": {},
     "output_type": "execute_result"
    }
   ],
   "source": [
    "ans = custom_vander(np.array([1,3,5,7]),3)\n",
    "ans"
   ]
  },
  {
   "cell_type": "code",
   "execution_count": 6,
   "id": "29a433fb",
   "metadata": {},
   "outputs": [
    {
     "data": {
      "text/plain": [
       "array([[  1.,   1.,   1.,   1.],\n",
       "       [  1.,   3.,   9.,  27.],\n",
       "       [  1.,   5.,  25., 125.],\n",
       "       [  1.,   7.,  49., 343.]])"
      ]
     },
     "execution_count": 6,
     "metadata": {},
     "output_type": "execute_result"
    }
   ],
   "source": [
    "ans = custom_vander(np.array([1,3,5,7]), increasing=True)\n",
    "ans"
   ]
  },
  {
   "cell_type": "markdown",
   "id": "42d5a815",
   "metadata": {},
   "source": [
    "- Problem Statement 2: \n",
    "  - Given a sequence of n values x1, x2, ..., xn and a window size k>0, the k-th moving average of  the given sequence is defined as follows: \n",
    "  - The moving average sequence has n-k+1 elements as shown below. \n",
    "  - The moving averages with k=4 of a ten-value sequence (n=10) is shown below <br>"
   ]
  },
  {
   "cell_type": "raw",
   "id": "36d85552",
   "metadata": {},
   "source": [
    "i 1 2 3 4 5 6 7 8 9 10 \n",
    "===== == == == == == == == == == == \n",
    "Input 10 20 30 40 50 60 70 80 90 100  \n",
    "y1 25 = (10+20+30+40)/4 \n",
    "y2 35 = (20+30+40+50)/4 \n",
    "y3 45 = (30+40+50+60)/4 \n",
    "y4 55 = (40+50+60+70)/4 \n",
    "y5 65 = (50+60+70+80)/4 \n",
    "y6 75 = (60+70+80+90)/4 \n",
    "y7 85 = (70+80+90+100)/4 \n",
    "\n",
    "Thus, the moving average sequence has n-k+1=10-4+1=7 values.\n",
    "\n",
    "Question: Write a function to find moving average in an array over a window:  Test it over [3, 5, 7, 2, 8, 10, 11, 65, 72, 81, 99, 100, 150] and window of 3. "
   ]
  },
  {
   "cell_type": "code",
   "execution_count": 7,
   "id": "78c42ba5",
   "metadata": {},
   "outputs": [],
   "source": [
    "def find_moving_avg(input_value, k):\n",
    "    '''\n",
    "        this method takes 2 parameters:-\n",
    "        input_value : a sequence consisting of 1D list or numpy array.\n",
    "        k : k-th moving average of the given sequence, integer value.\n",
    "    '''\n",
    "    \n",
    "    # if list is passed changing it into numpy array\n",
    "    if(type(input_value) == list):\n",
    "        input_value = np.array(input_value)\n",
    "    \n",
    "    # finding value of moving avg seq number i.e, n-k+1\n",
    "    moving_avg_seq_elements = len(input_value)-k+1\n",
    "    \n",
    "    # preparing output string as per specified in the question.\n",
    "    for i in range(moving_avg_seq_elements):\n",
    "        \n",
    "        # calculating moving avg and rounding off to 2 decimal places\n",
    "        moving_avg = format(input_value[i:i+k].sum()/k, '.2f') \n",
    "        \n",
    "        # preparing string as -> y1 25 = (10+20+30+40)/4\n",
    "        output_string = f\"y{i+1} {moving_avg} = (\"\n",
    "        for x in range(k):\n",
    "            if x == k-1:\n",
    "                output_string += f\"{input_value[x+i]}\"\n",
    "            else:\n",
    "                output_string += f\"{input_value[x+i]}+\"\n",
    "                \n",
    "        output_string += f\")/{k}\"\n",
    "        \n",
    "        print(output_string)\n",
    "    "
   ]
  },
  {
   "cell_type": "code",
   "execution_count": 8,
   "id": "1e8669ff",
   "metadata": {},
   "outputs": [
    {
     "name": "stdout",
     "output_type": "stream",
     "text": [
      "y1 25.00 = (10+20+30+40)/4\n",
      "y2 35.00 = (20+30+40+50)/4\n",
      "y3 45.00 = (30+40+50+60)/4\n",
      "y4 55.00 = (40+50+60+70)/4\n",
      "y5 65.00 = (50+60+70+80)/4\n",
      "y6 75.00 = (60+70+80+90)/4\n",
      "y7 85.00 = (70+80+90+100)/4\n"
     ]
    }
   ],
   "source": [
    "find_moving_avg(list(range(10,101,10)), 4)"
   ]
  },
  {
   "cell_type": "code",
   "execution_count": 9,
   "id": "f3d2ca3a",
   "metadata": {},
   "outputs": [
    {
     "name": "stdout",
     "output_type": "stream",
     "text": [
      "y1 5.00 = (3+5+7)/3\n",
      "y2 4.67 = (5+7+2)/3\n",
      "y3 5.67 = (7+2+8)/3\n",
      "y4 6.67 = (2+8+10)/3\n",
      "y5 9.67 = (8+10+11)/3\n",
      "y6 28.67 = (10+11+65)/3\n",
      "y7 49.33 = (11+65+72)/3\n",
      "y8 72.67 = (65+72+81)/3\n",
      "y9 84.00 = (72+81+99)/3\n",
      "y10 93.33 = (81+99+100)/3\n",
      "y11 116.33 = (99+100+150)/3\n"
     ]
    }
   ],
   "source": [
    "find_moving_avg([3, 5, 7, 2, 8, 10, 11, 65, 72, 81, 99, 100, 150], 3)"
   ]
  }
 ],
 "metadata": {
  "kernelspec": {
   "display_name": "Python 3",
   "language": "python",
   "name": "python3"
  },
  "language_info": {
   "codemirror_mode": {
    "name": "ipython",
    "version": 3
   },
   "file_extension": ".py",
   "mimetype": "text/x-python",
   "name": "python",
   "nbconvert_exporter": "python",
   "pygments_lexer": "ipython3",
   "version": "3.8.5"
  }
 },
 "nbformat": 4,
 "nbformat_minor": 5
}
