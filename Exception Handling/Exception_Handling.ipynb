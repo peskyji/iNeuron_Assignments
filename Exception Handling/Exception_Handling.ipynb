{
 "cells": [
  {
   "cell_type": "markdown",
   "id": "c89b6d9c",
   "metadata": {},
   "source": [
    "## <center>Exception Handling Assignment</center>"
   ]
  },
  {
   "cell_type": "markdown",
   "id": "834272ff",
   "metadata": {},
   "source": [
    "### 1.Write a function to compute 5/0 and use try/except to catch the exceptions."
   ]
  },
  {
   "cell_type": "code",
   "execution_count": 19,
   "id": "2d2ef5f6",
   "metadata": {},
   "outputs": [
    {
     "name": "stdout",
     "output_type": "stream",
     "text": [
      "Type of Exception occured : ZeroDivisionError\n",
      "Exception Message: division by zero\n",
      "Please use any other number instead of 0 as denominator\n",
      "This is the end of this program.\n"
     ]
    }
   ],
   "source": [
    "def exception_Handling_function():\n",
    "\n",
    "    try:\n",
    "        a = 5/0\n",
    "        \n",
    "    except Exception as e:\n",
    "        print(f\"Type of Exception occured : {type(e).__name__}\")\n",
    "        print(f\"Exception Message: {e}\")\n",
    "        print(\"Please use any other number instead of 0 as denominator\")\n",
    "    \n",
    "    else:\n",
    "        print(\"Everything went smooth, no exception occurs\")\n",
    "        \n",
    "    finally:\n",
    "        print(\"This is the end of this program.\")\n",
    "\n",
    "exception_Handling_function()"
   ]
  },
  {
   "cell_type": "markdown",
   "id": "15f46ff7",
   "metadata": {},
   "source": [
    "### 2. Implement a Python program to generate all sentences where subject is in [\"Americans\", \"Indians\"] and verb is in [\"Play\", \"watch\"] and the object is in [\"Baseball\",\"cricket\"].\n",
    "\n",
    "    - Hint: Subject,Verb and Object should be declared in the program as shown below.\n",
    "        subjects=[\"Americans \",\"Indians\"]\n",
    "        verbs=[\"play\",\"watch\"]\n",
    "        objects=[\"Baseball\",\"Cricket\"]\n",
    "\n",
    "    - Output should come as below:\n",
    "        Americans play Baseball.\n",
    "        Americans play Cricket.\n",
    "        Americans watch Baseball.\n",
    "        Americans watch Cricket.\n",
    "        Indians play Baseball.\n",
    "        Indians play Cricket.\n",
    "        Indians watch Baseball.\n",
    "        Indians watch Cricket."
   ]
  },
  {
   "cell_type": "code",
   "execution_count": 1,
   "id": "011338af",
   "metadata": {},
   "outputs": [
    {
     "name": "stdout",
     "output_type": "stream",
     "text": [
      "Americans play Baseball.\n",
      "Americans play Cricket.\n",
      "Americans watch Baseball.\n",
      "Americans watch Cricket.\n",
      "Indians play Baseball.\n",
      "Indians play Cricket.\n",
      "Indians watch Baseball.\n",
      "Indians watch Cricket.\n"
     ]
    }
   ],
   "source": [
    "subjects=[\"Americans\",\"Indians\"]\n",
    "verbs=[\"play\",\"watch\"]\n",
    "objects=[\"Baseball\",\"Cricket\"]\n",
    "\n",
    "all_sentences = [f\"{x} {y} {z}.\" for x in subjects for y in verbs for z in objects]\n",
    "\n",
    "for sentence in all_sentences:\n",
    "    print(sentence)"
   ]
  }
 ],
 "metadata": {
  "kernelspec": {
   "display_name": "Python 3",
   "language": "python",
   "name": "python3"
  },
  "language_info": {
   "codemirror_mode": {
    "name": "ipython",
    "version": 3
   },
   "file_extension": ".py",
   "mimetype": "text/x-python",
   "name": "python",
   "nbconvert_exporter": "python",
   "pygments_lexer": "ipython3",
   "version": "3.8.5"
  }
 },
 "nbformat": 4,
 "nbformat_minor": 5
}
